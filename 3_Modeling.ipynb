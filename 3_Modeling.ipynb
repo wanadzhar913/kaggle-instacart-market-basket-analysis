{
 "cells": [
  {
   "cell_type": "code",
   "execution_count": 18,
   "metadata": {},
   "outputs": [],
   "source": [
    "import pandas as pd\n",
    "import numpy as np\n",
    "import re\n",
    "\n",
    "# visualization\n",
    "import seaborn as sns\n",
    "import matplotlib.pyplot as plt\n",
    "import matplotlib.ticker as ticker\n",
    "%matplotlib inline\n",
    "\n",
    "# preprocessing packages\n",
    "from sklearn.model_selection import train_test_split\n",
    "\n",
    "# modeling algorithm\n",
    "import lightgbm as lgb\n",
    "\n",
    "# model evaluation\n",
    "from sklearn.metrics import accuracy_score, recall_score, precision_score, \\\n",
    "                            f1_score, roc_auc_score, \\\n",
    "                            classification_report, confusion_matrix\n",
    "\n",
    "# ignore warnings\n",
    "import warnings\n",
    "warnings.filterwarnings(\"ignore\")"
   ]
  },
  {
   "cell_type": "code",
   "execution_count": 5,
   "metadata": {},
   "outputs": [
    {
     "name": "stdout",
     "output_type": "stream",
     "text": [
      "Shape of dataframe: (8474661, 11)\n",
      "\n"
     ]
    },
    {
     "data": {
      "text/html": [
       "<div>\n",
       "<style scoped>\n",
       "    .dataframe tbody tr th:only-of-type {\n",
       "        vertical-align: middle;\n",
       "    }\n",
       "\n",
       "    .dataframe tbody tr th {\n",
       "        vertical-align: top;\n",
       "    }\n",
       "\n",
       "    .dataframe thead th {\n",
       "        text-align: right;\n",
       "    }\n",
       "</style>\n",
       "<table border=\"1\" class=\"dataframe\">\n",
       "  <thead>\n",
       "    <tr style=\"text-align: right;\">\n",
       "      <th></th>\n",
       "      <th></th>\n",
       "      <th>user_product_total_purchase</th>\n",
       "      <th>user_total_orders</th>\n",
       "      <th>user_reordered_ratio</th>\n",
       "      <th>user_product_reorder_rate</th>\n",
       "      <th>p_NumOrders</th>\n",
       "      <th>p_NumReorders</th>\n",
       "      <th>p_MedianAddToCartOrder</th>\n",
       "      <th>p_reorder_rate</th>\n",
       "      <th>p_FoodItem</th>\n",
       "      <th>user_product_days_since_order</th>\n",
       "      <th>reordered</th>\n",
       "    </tr>\n",
       "    <tr>\n",
       "      <th>user_id</th>\n",
       "      <th>product_id</th>\n",
       "      <th></th>\n",
       "      <th></th>\n",
       "      <th></th>\n",
       "      <th></th>\n",
       "      <th></th>\n",
       "      <th></th>\n",
       "      <th></th>\n",
       "      <th></th>\n",
       "      <th></th>\n",
       "      <th></th>\n",
       "      <th></th>\n",
       "    </tr>\n",
       "  </thead>\n",
       "  <tbody>\n",
       "    <tr>\n",
       "      <th rowspan=\"3\" valign=\"top\">1</th>\n",
       "      <th>196</th>\n",
       "      <td>10</td>\n",
       "      <td>10</td>\n",
       "      <td>0.694915</td>\n",
       "      <td>1.0</td>\n",
       "      <td>35791</td>\n",
       "      <td>27791</td>\n",
       "      <td>2.0</td>\n",
       "      <td>0.776480</td>\n",
       "      <td>True</td>\n",
       "      <td>30.0</td>\n",
       "      <td>1.0</td>\n",
       "    </tr>\n",
       "    <tr>\n",
       "      <th>10258</th>\n",
       "      <td>9</td>\n",
       "      <td>10</td>\n",
       "      <td>0.694915</td>\n",
       "      <td>0.9</td>\n",
       "      <td>1946</td>\n",
       "      <td>1389</td>\n",
       "      <td>3.0</td>\n",
       "      <td>0.713772</td>\n",
       "      <td>True</td>\n",
       "      <td>30.0</td>\n",
       "      <td>1.0</td>\n",
       "    </tr>\n",
       "    <tr>\n",
       "      <th>10326</th>\n",
       "      <td>1</td>\n",
       "      <td>10</td>\n",
       "      <td>0.694915</td>\n",
       "      <td>0.1</td>\n",
       "      <td>5526</td>\n",
       "      <td>3603</td>\n",
       "      <td>3.0</td>\n",
       "      <td>0.652009</td>\n",
       "      <td>True</td>\n",
       "      <td>28.0</td>\n",
       "      <td>0.0</td>\n",
       "    </tr>\n",
       "  </tbody>\n",
       "</table>\n",
       "</div>"
      ],
      "text/plain": [
       "                    user_product_total_purchase  user_total_orders  \\\n",
       "user_id product_id                                                   \n",
       "1       196                                  10                 10   \n",
       "        10258                                 9                 10   \n",
       "        10326                                 1                 10   \n",
       "\n",
       "                    user_reordered_ratio  user_product_reorder_rate  \\\n",
       "user_id product_id                                                    \n",
       "1       196                     0.694915                        1.0   \n",
       "        10258                   0.694915                        0.9   \n",
       "        10326                   0.694915                        0.1   \n",
       "\n",
       "                    p_NumOrders  p_NumReorders  p_MedianAddToCartOrder  \\\n",
       "user_id product_id                                                       \n",
       "1       196               35791          27791                     2.0   \n",
       "        10258              1946           1389                     3.0   \n",
       "        10326              5526           3603                     3.0   \n",
       "\n",
       "                    p_reorder_rate  p_FoodItem  user_product_days_since_order  \\\n",
       "user_id product_id                                                              \n",
       "1       196               0.776480        True                           30.0   \n",
       "        10258             0.713772        True                           30.0   \n",
       "        10326             0.652009        True                           28.0   \n",
       "\n",
       "                    reordered  \n",
       "user_id product_id             \n",
       "1       196               1.0  \n",
       "        10258             1.0  \n",
       "        10326             0.0  "
      ]
     },
     "execution_count": 5,
     "metadata": {},
     "output_type": "execute_result"
    }
   ],
   "source": [
    "# load training dataset\n",
    "df = pd.read_parquet('datasets/train_set_features.parquet')\n",
    "\n",
    "print(f\"Shape of dataframe: {df.shape}\")\n",
    "print(\"\")\n",
    "df.head(3)"
   ]
  },
  {
   "cell_type": "code",
   "execution_count": 8,
   "metadata": {},
   "outputs": [
    {
     "data": {
      "text/html": [
       "<div>\n",
       "<style scoped>\n",
       "    .dataframe tbody tr th:only-of-type {\n",
       "        vertical-align: middle;\n",
       "    }\n",
       "\n",
       "    .dataframe tbody tr th {\n",
       "        vertical-align: top;\n",
       "    }\n",
       "\n",
       "    .dataframe thead th {\n",
       "        text-align: right;\n",
       "    }\n",
       "</style>\n",
       "<table border=\"1\" class=\"dataframe\">\n",
       "  <thead>\n",
       "    <tr style=\"text-align: right;\">\n",
       "      <th></th>\n",
       "      <th></th>\n",
       "      <th>user_product_total_purchase</th>\n",
       "      <th>user_total_orders</th>\n",
       "      <th>user_reordered_ratio</th>\n",
       "      <th>user_product_reorder_rate</th>\n",
       "      <th>p_NumOrders</th>\n",
       "      <th>p_NumReorders</th>\n",
       "      <th>p_MedianAddToCartOrder</th>\n",
       "      <th>p_reorder_rate</th>\n",
       "      <th>p_FoodItem</th>\n",
       "      <th>user_product_days_since_order</th>\n",
       "      <th>reordered</th>\n",
       "    </tr>\n",
       "    <tr>\n",
       "      <th>user_id</th>\n",
       "      <th>product_id</th>\n",
       "      <th></th>\n",
       "      <th></th>\n",
       "      <th></th>\n",
       "      <th></th>\n",
       "      <th></th>\n",
       "      <th></th>\n",
       "      <th></th>\n",
       "      <th></th>\n",
       "      <th></th>\n",
       "      <th></th>\n",
       "      <th></th>\n",
       "    </tr>\n",
       "  </thead>\n",
       "  <tbody>\n",
       "    <tr>\n",
       "      <th rowspan=\"3\" valign=\"top\">1</th>\n",
       "      <th>196</th>\n",
       "      <td>10</td>\n",
       "      <td>10</td>\n",
       "      <td>0.694915</td>\n",
       "      <td>1.0</td>\n",
       "      <td>35791</td>\n",
       "      <td>27791</td>\n",
       "      <td>2.0</td>\n",
       "      <td>0.776480</td>\n",
       "      <td>1</td>\n",
       "      <td>30.0</td>\n",
       "      <td>1.0</td>\n",
       "    </tr>\n",
       "    <tr>\n",
       "      <th>10258</th>\n",
       "      <td>9</td>\n",
       "      <td>10</td>\n",
       "      <td>0.694915</td>\n",
       "      <td>0.9</td>\n",
       "      <td>1946</td>\n",
       "      <td>1389</td>\n",
       "      <td>3.0</td>\n",
       "      <td>0.713772</td>\n",
       "      <td>1</td>\n",
       "      <td>30.0</td>\n",
       "      <td>1.0</td>\n",
       "    </tr>\n",
       "    <tr>\n",
       "      <th>10326</th>\n",
       "      <td>1</td>\n",
       "      <td>10</td>\n",
       "      <td>0.694915</td>\n",
       "      <td>0.1</td>\n",
       "      <td>5526</td>\n",
       "      <td>3603</td>\n",
       "      <td>3.0</td>\n",
       "      <td>0.652009</td>\n",
       "      <td>1</td>\n",
       "      <td>28.0</td>\n",
       "      <td>0.0</td>\n",
       "    </tr>\n",
       "  </tbody>\n",
       "</table>\n",
       "</div>"
      ],
      "text/plain": [
       "                    user_product_total_purchase  user_total_orders  \\\n",
       "user_id product_id                                                   \n",
       "1       196                                  10                 10   \n",
       "        10258                                 9                 10   \n",
       "        10326                                 1                 10   \n",
       "\n",
       "                    user_reordered_ratio  user_product_reorder_rate  \\\n",
       "user_id product_id                                                    \n",
       "1       196                     0.694915                        1.0   \n",
       "        10258                   0.694915                        0.9   \n",
       "        10326                   0.694915                        0.1   \n",
       "\n",
       "                    p_NumOrders  p_NumReorders  p_MedianAddToCartOrder  \\\n",
       "user_id product_id                                                       \n",
       "1       196               35791          27791                     2.0   \n",
       "        10258              1946           1389                     3.0   \n",
       "        10326              5526           3603                     3.0   \n",
       "\n",
       "                    p_reorder_rate  p_FoodItem  user_product_days_since_order  \\\n",
       "user_id product_id                                                              \n",
       "1       196               0.776480           1                           30.0   \n",
       "        10258             0.713772           1                           30.0   \n",
       "        10326             0.652009           1                           28.0   \n",
       "\n",
       "                    reordered  \n",
       "user_id product_id             \n",
       "1       196               1.0  \n",
       "        10258             1.0  \n",
       "        10326             0.0  "
      ]
     },
     "execution_count": 8,
     "metadata": {},
     "output_type": "execute_result"
    }
   ],
   "source": [
    "# cast this boolean column to integers (Yes 1, No 0)\n",
    "df['p_FoodItem'] = df['p_FoodItem'].astype('int')\n",
    "df.head(3)"
   ]
  },
  {
   "cell_type": "code",
   "execution_count": 11,
   "metadata": {},
   "outputs": [
    {
     "data": {
      "text/plain": [
       "reordered\n",
       "0.0    0.9022\n",
       "1.0    0.0978\n",
       "Name: proportion, dtype: float64"
      ]
     },
     "execution_count": 11,
     "metadata": {},
     "output_type": "execute_result"
    }
   ],
   "source": [
    "# we make note of the imbalanced classes of the target in this dataset\n",
    "df['reordered'].value_counts(normalize=True)"
   ]
  },
  {
   "cell_type": "code",
   "execution_count": 13,
   "metadata": {},
   "outputs": [
    {
     "name": "stdout",
     "output_type": "stream",
     "text": [
      "<class 'pandas.core.frame.DataFrame'>\n",
      "MultiIndex: 8474661 entries, (1, 196) to (206209, 48742)\n",
      "Data columns (total 11 columns):\n",
      " #   Column                         Non-Null Count    Dtype  \n",
      "---  ------                         --------------    -----  \n",
      " 0   user_product_total_purchase    8474661 non-null  int64  \n",
      " 1   user_total_orders              8474661 non-null  int8   \n",
      " 2   user_reordered_ratio           8474661 non-null  float64\n",
      " 3   user_product_reorder_rate      8474661 non-null  float64\n",
      " 4   p_NumOrders                    8474661 non-null  int64  \n",
      " 5   p_NumReorders                  8474661 non-null  int64  \n",
      " 6   p_MedianAddToCartOrder         8474661 non-null  float64\n",
      " 7   p_reorder_rate                 8474661 non-null  float64\n",
      " 8   p_FoodItem                     8474661 non-null  int32  \n",
      " 9   user_product_days_since_order  8474661 non-null  float32\n",
      " 10  reordered                      8474661 non-null  float64\n",
      "dtypes: float32(1), float64(5), int32(1), int64(3), int8(1)\n",
      "memory usage: 655.3 MB\n"
     ]
    }
   ],
   "source": [
    "df.info(verbose=True, show_counts=True)"
   ]
  },
  {
   "cell_type": "markdown",
   "metadata": {},
   "source": [
    "#### **Train-test Split**"
   ]
  },
  {
   "cell_type": "code",
   "execution_count": 15,
   "metadata": {},
   "outputs": [],
   "source": [
    "X_train, X_test, y_train, y_test = train_test_split(\n",
    "                                 df.drop('reordered', axis=1), df.reordered, test_size=0.2, \n",
    "                                 random_state=42, stratify=df.reordered\n",
    "                                )"
   ]
  },
  {
   "cell_type": "markdown",
   "metadata": {},
   "source": [
    "#### **LightGBM**"
   ]
  },
  {
   "cell_type": "markdown",
   "metadata": {},
   "source": [
    "In light of this being a "
   ]
  },
  {
   "cell_type": "code",
   "execution_count": 19,
   "metadata": {},
   "outputs": [],
   "source": [
    "# use regular expressions to remove spaces, special characters, etc. in columns\n",
    "# link for why we've to do this: https://stackoverflow.com/questions/60582050/lightgbmerror-do-not-support-special-json-characters-in-feature-name-the-same\n",
    "X_train_re = X_train.rename(columns = lambda x:re.sub('[^A-Za-z0-9_]+', '', x))\n",
    "X_test_re = X_test.rename(columns = lambda x:re.sub('[^A-Za-z0-9_]+', '', x))"
   ]
  },
  {
   "cell_type": "markdown",
   "metadata": {},
   "source": [
    "##### **1.0 Baseline**"
   ]
  },
  {
   "cell_type": "code",
   "execution_count": 27,
   "metadata": {},
   "outputs": [
    {
     "name": "stdout",
     "output_type": "stream",
     "text": [
      "[LightGBM] [Info] Number of positive: 663059, number of negative: 6116669\n",
      "[LightGBM] [Info] Auto-choosing row-wise multi-threading, the overhead of testing was 0.048905 seconds.\n",
      "You can set `force_row_wise=true` to remove the overhead.\n",
      "And if memory is not enough, you can set `force_col_wise=true`.\n",
      "[LightGBM] [Info] Total Bins 1504\n",
      "[LightGBM] [Info] Number of data points in the train set: 6779728, number of used features: 10\n",
      "[LightGBM] [Info] [binary:BoostFromScore]: pavg=0.097800 -> initscore=-2.221909\n",
      "[LightGBM] [Info] Start training from score -2.221909\n",
      "Acc Score:  0.9071178624759799\n",
      "Roc Auc Score:  0.5568890350342905\n",
      "Precision Score:  0.6304783370899073\n",
      "Recall Score:  0.12149730039513769\n",
      "f1 score:  0.20373377033923593\n",
      "LightGBM confusion matrix on test data  \n",
      " [[1517364   11804]\n",
      " [ 145625   20140]]\n",
      "_____________________________________________________\n",
      "\n",
      "Classification Report  on test data \n",
      "              precision    recall  f1-score   support\n",
      "\n",
      "         0.0       0.91      0.99      0.95   1529168\n",
      "         1.0       0.63      0.12      0.20    165765\n",
      "\n",
      "    accuracy                           0.91   1694933\n",
      "   macro avg       0.77      0.56      0.58   1694933\n",
      "weighted avg       0.88      0.91      0.88   1694933\n",
      "\n",
      "_____________________________________________________\n",
      "\n"
     ]
    }
   ],
   "source": [
    "# baseline lgb model\n",
    "lgb_clss = lgb.LGBMClassifier(learning_rate=0.01,\n",
    "                            n_estimators=1500,\n",
    "                            num_leaves=100,\n",
    "                            objective='binary',\n",
    "                            metrics='f1_macro',\n",
    "                            random_state=50,\n",
    "                            n_jobs=-1)\n",
    "lgb_clss.fit(X_train_re, y_train)\n",
    "lgb_clss.score(X_test_re, y_test)\n",
    "preds2 = lgb_clss.predict(X_test_re)\n",
    "print('Acc Score: ',accuracy_score(y_test, preds2))\n",
    "print('Roc Auc Score: ',roc_auc_score(y_test, preds2))\n",
    "print('Precision Score: ',precision_score(y_test, preds2))\n",
    "print('Recall Score: ',recall_score(y_test, preds2))\n",
    "print('f1 score: ',f1_score(y_test, preds2))\n",
    "print('LightGBM confusion matrix on test data  \\n', confusion_matrix(y_test, preds2) )\n",
    "print('_____________________________________________________')\n",
    "print(\"\")\n",
    "print('Classification Report  on test data ')\n",
    "print(classification_report(y_test, preds2))\n",
    "print('_____________________________________________________')\n",
    "print(\"\")"
   ]
  },
  {
   "cell_type": "markdown",
   "metadata": {},
   "source": [
    "##### **2.0 Adding the** `is_unbalance=True`"
   ]
  },
  {
   "cell_type": "code",
   "execution_count": 30,
   "metadata": {},
   "outputs": [
    {
     "name": "stdout",
     "output_type": "stream",
     "text": [
      "[LightGBM] [Info] Number of positive: 663059, number of negative: 6116669\n",
      "[LightGBM] [Info] Auto-choosing col-wise multi-threading, the overhead of testing was 0.109018 seconds.\n",
      "You can set `force_col_wise=true` to remove the overhead.\n",
      "[LightGBM] [Info] Total Bins 1504\n",
      "[LightGBM] [Info] Number of data points in the train set: 6779728, number of used features: 10\n",
      "[LightGBM] [Info] [binary:BoostFromScore]: pavg=0.097800 -> initscore=-2.221909\n",
      "[LightGBM] [Info] Start training from score -2.221909\n",
      "Acc Score:  0.7344644301574162\n",
      "Roc Auc Score:  0.7247169161716843\n",
      "Precision Score:  0.22692239716606347\n",
      "Recall Score:  0.7125991614635176\n",
      "f1 score:  0.3442277794533981\n",
      "LightGBM confusion matrix on test data  \n",
      " [[1126744  402424]\n",
      " [  47641  118124]]\n",
      "_____________________________________________________\n",
      "\n",
      "Classification Report  on test data \n",
      "              precision    recall  f1-score   support\n",
      "\n",
      "         0.0       0.96      0.74      0.83   1529168\n",
      "         1.0       0.23      0.71      0.34    165765\n",
      "\n",
      "    accuracy                           0.73   1694933\n",
      "   macro avg       0.59      0.72      0.59   1694933\n",
      "weighted avg       0.89      0.73      0.79   1694933\n",
      "\n",
      "_____________________________________________________\n",
      "\n"
     ]
    }
   ],
   "source": [
    "lgb_clss = lgb.LGBMClassifier(learning_rate=0.01,\n",
    "                            n_estimators=1500,\n",
    "                            num_leaves=100,\n",
    "                            objective='binary',\n",
    "                            metrics='f1_macro',\n",
    "                            random_state=50,\n",
    "                            n_jobs=-1,\n",
    "                            is_unbalance=True)\n",
    "lgb_clss.fit(X_train_re, y_train)\n",
    "lgb_clss.score(X_test_re, y_test)\n",
    "preds2 = lgb_clss.predict(X_test_re)\n",
    "print('Acc Score: ',accuracy_score(y_test, preds2))\n",
    "print('Roc Auc Score: ',roc_auc_score(y_test, preds2))\n",
    "print('Precision Score: ',precision_score(y_test, preds2))\n",
    "print('Recall Score: ',recall_score(y_test, preds2))\n",
    "print('f1 score: ',f1_score(y_test, preds2))\n",
    "print('LightGBM confusion matrix on test data  \\n', confusion_matrix(y_test, preds2) )\n",
    "print('_____________________________________________________')\n",
    "print(\"\")\n",
    "print('Classification Report  on test data ')\n",
    "print(classification_report(y_test, preds2))\n",
    "print('_____________________________________________________')\n",
    "print(\"\")"
   ]
  },
  {
   "cell_type": "markdown",
   "metadata": {},
   "source": [
    "##### **3.0 Probability Threshold-tuning**"
   ]
  },
  {
   "cell_type": "code",
   "execution_count": 36,
   "metadata": {},
   "outputs": [
    {
     "name": "stdout",
     "output_type": "stream",
     "text": [
      "[LightGBM] [Info] Number of positive: 663059, number of negative: 6116669\n",
      "[LightGBM] [Info] Auto-choosing row-wise multi-threading, the overhead of testing was 0.074754 seconds.\n",
      "You can set `force_row_wise=true` to remove the overhead.\n",
      "And if memory is not enough, you can set `force_col_wise=true`.\n",
      "[LightGBM] [Info] Total Bins 1504\n",
      "[LightGBM] [Info] Number of data points in the train set: 6779728, number of used features: 10\n",
      "[LightGBM] [Info] [binary:BoostFromScore]: pavg=0.097800 -> initscore=-2.221909\n",
      "[LightGBM] [Info] Start training from score -2.221909\n"
     ]
    },
    {
     "data": {
      "image/png": "[encoded data removed]",
      "text/plain": [
       "<Figure size 800x600 with 1 Axes>"
      ]
     },
     "metadata": {},
     "output_type": "display_data"
    },
    {
     "name": "stdout",
     "output_type": "stream",
     "text": [
      "Best Threshold:  0.2\n",
      "Acc Score:  0.8639598143407439\n",
      "Roc Auc Score:  0.6826166066678818\n",
      "Precision Score:  0.350232459261861\n",
      "Recall Score:  0.4571773293517932\n",
      "f1 score:  0.3966222422261591\n",
      "LightGBM confusion matrix on test data  \n",
      " [[1388570  140598]\n",
      " [  89981   75784]]\n",
      "_____________________________________________________\n",
      "\n",
      "Classification Report  on test data \n",
      "              precision    recall  f1-score   support\n",
      "\n",
      "         0.0       0.94      0.91      0.92   1529168\n",
      "         1.0       0.35      0.46      0.40    165765\n",
      "\n",
      "    accuracy                           0.86   1694933\n",
      "   macro avg       0.64      0.68      0.66   1694933\n",
      "weighted avg       0.88      0.86      0.87   1694933\n",
      "\n",
      "_____________________________________________________\n",
      "\n"
     ]
    }
   ],
   "source": [
    "lgb_clss = lgb.LGBMClassifier(learning_rate=0.01,\n",
    "                            n_estimators=1500,\n",
    "                            num_leaves=100,\n",
    "                            objective='binary',\n",
    "                            metrics='f1_macro',\n",
    "                            random_state=50,\n",
    "                            n_jobs=-1\n",
    "                            )\n",
    "lgb_clss.fit(X_train_re, y_train)\n",
    "lgb_clss.score(X_test_re, y_test)\n",
    "\n",
    "# Obtain the predicted probabilities for each class on the test set\n",
    "probs=lgb_clss.predict_proba(X_test_re)\n",
    "\n",
    "# Define a range of threshold values to try\n",
    "thresholds = np.arange(0, 0.41, 0.01)\n",
    "\n",
    "# Initialize variables to store F1 scores\n",
    "f1_scores = []\n",
    "\n",
    "# Iterate over the threshold values and evaluate the model's performance\n",
    "for threshold in thresholds:\n",
    "    preds = (probs[:, 1] > threshold).astype(int)\n",
    "    score = f1_score(y_test, preds)\n",
    "    f1_scores.append(score)\n",
    "\n",
    "# Find the best threshold and its corresponding F1 score\n",
    "best_threshold = thresholds[np.argmax(f1_scores)]\n",
    "best_score = max(f1_scores)\n",
    "\n",
    "# Plot the F1 scores at different thresholds\n",
    "plt.figure(figsize=(8, 6))\n",
    "plt.plot(thresholds, f1_scores, marker='o')\n",
    "plt.title(\"F1 Score at Different Thresholds\")\n",
    "plt.xlabel(\"Threshold\")\n",
    "plt.ylabel(\"F1 Score\")\n",
    "plt.grid(True)\n",
    "\n",
    "# Mark the best threshold on the chart\n",
    "plt.annotate(f\"Best Threshold: {best_threshold:.2f}\\nBest F1 Score: {best_score:.2f}\",\n",
    "             xy=(best_threshold, best_score),\n",
    "             xytext=(best_threshold + 0.05, best_score - 0.2),\n",
    "             arrowprops=dict(arrowstyle='->'))\n",
    "\n",
    "# Show the plot\n",
    "plt.show()\n",
    "\n",
    "# Use the best threshold to predict the test set and evaluate the model's performance\n",
    "preds2 = (lgb_clss.predict_proba(X_test)[:,1] > best_threshold).astype(int)\n",
    "\n",
    "print('Best Threshold: ', best_threshold)\n",
    "print('Acc Score: ',accuracy_score(y_test, preds2))\n",
    "print('Roc Auc Score: ',roc_auc_score(y_test, preds2))\n",
    "print('Precision Score: ',precision_score(y_test, preds2))\n",
    "print('Recall Score: ',recall_score(y_test, preds2))\n",
    "print('f1 score: ',f1_score(y_test, preds2))\n",
    "print('LightGBM confusion matrix on test data  \\n', confusion_matrix(y_test, preds2) )\n",
    "print('_____________________________________________________')\n",
    "print(\"\")\n",
    "print('Classification Report  on test data ')\n",
    "print(classification_report(y_test, preds2))\n",
    "print('_____________________________________________________')\n",
    "print(\"\")"
   ]
  },
  {
   "cell_type": "markdown",
   "metadata": {},
   "source": [
    "#### **Feature Importance**"
   ]
  },
  {
   "cell_type": "code",
   "execution_count": 38,
   "metadata": {},
   "outputs": [
    {
     "data": {
      "image/png": "[encoded data removed]",
      "text/plain": [
       "<Figure size 1000x600 with 1 Axes>"
      ]
     },
     "metadata": {},
     "output_type": "display_data"
    }
   ],
   "source": [
    "# Get feature importances from the trained LightGBM model\n",
    "feature_importance = lgb_clss.feature_importances_\n",
    "\n",
    "# Get the names of the features\n",
    "feature_names = X_train_re.columns  # Assuming X_train_re is your training data\n",
    "\n",
    "# Create a DataFrame to store feature names and their corresponding importances\n",
    "feature_importance_df = pd.DataFrame({'Feature': feature_names, 'Importance': feature_importance})\n",
    "\n",
    "# Sort the features by importance in descending order\n",
    "feature_importance_df = feature_importance_df.sort_values(by='Importance', ascending=True)\n",
    "\n",
    "# Plot the feature importances\n",
    "plt.figure(figsize=(10, 6))\n",
    "plt.barh(feature_importance_df['Feature'], feature_importance_df['Importance'])\n",
    "plt.xlabel('Feature Importance')\n",
    "plt.ylabel('Feature')\n",
    "plt.title('Feature Importance Plot')\n",
    "plt.show()"
   ]
  }
 ],
 "metadata": {
  "kernelspec": {
   "display_name": "publicis_assessment_ds",
   "language": "python",
   "name": "python3"
  },
  "language_info": {
   "codemirror_mode": {
    "name": "ipython",
    "version": 3
   },
   "file_extension": ".py",
   "mimetype": "text/x-python",
   "name": "python",
   "nbconvert_exporter": "python",
   "pygments_lexer": "ipython3",
   "version": "3.11.5"
  }
 },
 "nbformat": 4,
 "nbformat_minor": 2
}
